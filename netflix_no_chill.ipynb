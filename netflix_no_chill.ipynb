{
 "cells": [
  {
   "cell_type": "markdown",
   "metadata": {},
   "source": [
    "## 📍First of all let's load the csv, pandas and store the dataframe in a variable netflix_df"
   ]
  },
  {
   "cell_type": "code",
   "execution_count": null,
   "metadata": {},
   "outputs": [],
   "source": []
  },
  {
   "cell_type": "markdown",
   "metadata": {},
   "source": [
    "### ❓What is the column with most missing values ? How many missing values has the column country ? "
   ]
  },
  {
   "cell_type": "code",
   "execution_count": null,
   "metadata": {},
   "outputs": [],
   "source": []
  },
  {
   "cell_type": "markdown",
   "metadata": {},
   "source": [
    "### ❓What are all the different \"type\" of content offered by netflix ?"
   ]
  },
  {
   "cell_type": "code",
   "execution_count": null,
   "metadata": {},
   "outputs": [],
   "source": []
  },
  {
   "cell_type": "markdown",
   "metadata": {},
   "source": [
    "### ❓What are the share of Movies vs TV shows ? \n",
    "\n",
    "##### Hint : Check this : https://towardsdatascience.com/getting-more-value-from-the-pandas-value-counts-aa17230907a6"
   ]
  },
  {
   "cell_type": "code",
   "execution_count": null,
   "metadata": {},
   "outputs": [],
   "source": []
  },
  {
   "cell_type": "markdown",
   "metadata": {},
   "source": [
    "### ❓Drop the 11 na values in the date_added_year"
   ]
  },
  {
   "cell_type": "code",
   "execution_count": null,
   "metadata": {},
   "outputs": [],
   "source": []
  },
  {
   "cell_type": "markdown",
   "metadata": {},
   "source": [
    "### ❓Create a New Column named date_added_year that stores integer\n",
    "\n",
    "##### Hint 1 : September 8, 2018\".split(',')[1].strip()\n",
    "##### Hint 2 : Look what split(\",\", expand=True) does "
   ]
  },
  {
   "cell_type": "code",
   "execution_count": null,
   "metadata": {},
   "outputs": [],
   "source": []
  },
  {
   "cell_type": "markdown",
   "metadata": {},
   "source": [
    "### ❓Let's have a look to the type of content displayed by netflix ?\n",
    "In the column rating you have a category. It's says the type of person the content is for. Example PG-13 are productions for 13+ years old person.\n",
    "\n",
    "Can you get the repartition of categories for the US ? And for France ? "
   ]
  },
  {
   "cell_type": "code",
   "execution_count": null,
   "metadata": {},
   "outputs": [],
   "source": []
  },
  {
   "cell_type": "markdown",
   "metadata": {},
   "source": [
    "\n",
    "_Another big concern is making content available in every country. Is that done ?_ \n",
    "\n",
    "_On what type of content does Netflix focus right now : Old or New ?_\n",
    "\n",
    "_Over the year what is the category which has the most increase. \n",
    "### ❓Show how many movies and TV shows were added each year in the last 5 years \n",
    "_A big concern for Netflix Manager is delivering the most content. Do you think there is one content to priviledge among the other (film, tv show) ?_ Let's see the path netflix are taking"
   ]
  },
  {
   "cell_type": "markdown",
   "metadata": {},
   "source": [
    "**First step : Create a dataset named last_year_df with only movies added after 2015**"
   ]
  },
  {
   "cell_type": "code",
   "execution_count": null,
   "metadata": {},
   "outputs": [],
   "source": []
  },
  {
   "cell_type": "markdown",
   "metadata": {},
   "source": [
    "**Count for each year how many productions were added for Movies and for TV shows** \n",
    "_hint_ : Look at this : https://www.geeksforgeeks.org/python-pandas-dataframe-groupby/#:~:text=groupby()%20function%20is%20used,of%20labels%20to%20group%20names.&text=sort%20%3A%20Sort%20group%20keys."
   ]
  },
  {
   "cell_type": "code",
   "execution_count": null,
   "metadata": {},
   "outputs": [],
   "source": []
  },
  {
   "cell_type": "markdown",
   "metadata": {},
   "source": [
    "**Can you plot it using seaborn ?**"
   ]
  },
  {
   "cell_type": "code",
   "execution_count": null,
   "metadata": {},
   "outputs": [],
   "source": []
  },
  {
   "cell_type": "markdown",
   "metadata": {},
   "source": [
    "### ❓Compare number distribution of movie and TV shows for US content and for Indian content"
   ]
  },
  {
   "cell_type": "markdown",
   "metadata": {},
   "source": [
    "**Create a dataframe named us_prod with only production of content that was displayed in the US**\n",
    "_hint_ : Look at this : https://www.google.com/search?q=str.contrains+pandas&oq=str.contrains+pandas&aqs=chrome..69i57j0l7.6808j1j4&sourceid=chrome&ie=UTF-8"
   ]
  },
  {
   "cell_type": "code",
   "execution_count": null,
   "metadata": {},
   "outputs": [],
   "source": []
  },
  {
   "cell_type": "markdown",
   "metadata": {},
   "source": [
    "**Plot on a graph the distribution of production between Tv shows and Movies in the US over the years**"
   ]
  },
  {
   "cell_type": "code",
   "execution_count": null,
   "metadata": {},
   "outputs": [],
   "source": []
  },
  {
   "cell_type": "markdown",
   "metadata": {},
   "source": [
    "**Do the same thing for India. Do they follow the same trend ?** "
   ]
  },
  {
   "cell_type": "code",
   "execution_count": null,
   "metadata": {},
   "outputs": [],
   "source": []
  }
 ],
 "metadata": {
  "kernelspec": {
   "display_name": "Python 3",
   "language": "python",
   "name": "python3"
  },
  "language_info": {
   "codemirror_mode": {
    "name": "ipython",
    "version": 3
   },
   "file_extension": ".py",
   "mimetype": "text/x-python",
   "name": "python",
   "nbconvert_exporter": "python",
   "pygments_lexer": "ipython3",
   "version": "3.7.7"
  }
 },
 "nbformat": 4,
 "nbformat_minor": 2
}
