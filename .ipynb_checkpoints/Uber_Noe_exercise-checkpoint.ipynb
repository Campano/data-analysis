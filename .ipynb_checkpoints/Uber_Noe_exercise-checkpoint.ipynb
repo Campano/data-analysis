{
 "cells": [
  {
   "cell_type": "code",
   "execution_count": 1,
   "metadata": {},
   "outputs": [],
   "source": [
    "import pandas as pd\n",
    "import seaborn as sns"
   ]
  },
  {
   "cell_type": "code",
   "execution_count": 2,
   "metadata": {},
   "outputs": [],
   "source": [
    "uber_df = pd.read_csv('data/uber_requests.csv')"
   ]
  },
  {
   "cell_type": "markdown",
   "metadata": {},
   "source": [
    "#### ❓Perform basic data exploration and in a markdown cell answer to these questions : \n",
    "* What is the name and dtype of the columns of the dataset ?\n",
    "* How many rows has the dataset ?\n",
    "* Which column has null values and how many ? \n",
    "* What is the Status of 5 first rows ?"
   ]
  },
  {
   "cell_type": "code",
   "execution_count": null,
   "metadata": {},
   "outputs": [],
   "source": []
  },
  {
   "cell_type": "code",
   "execution_count": null,
   "metadata": {},
   "outputs": [],
   "source": []
  },
  {
   "cell_type": "code",
   "execution_count": null,
   "metadata": {},
   "outputs": [],
   "source": []
  },
  {
   "cell_type": "code",
   "execution_count": null,
   "metadata": {},
   "outputs": [],
   "source": []
  },
  {
   "cell_type": "markdown",
   "metadata": {},
   "source": [
    "Answer : "
   ]
  },
  {
   "cell_type": "markdown",
   "metadata": {},
   "source": [
    "#### ❓What are the two possible Pickup point ? Prove it with a coding cell. "
   ]
  },
  {
   "cell_type": "code",
   "execution_count": null,
   "metadata": {},
   "outputs": [],
   "source": [
    " "
   ]
  },
  {
   "cell_type": "markdown",
   "metadata": {},
   "source": [
    "#### ❓Same question with Status"
   ]
  },
  {
   "cell_type": "code",
   "execution_count": null,
   "metadata": {},
   "outputs": [],
   "source": []
  },
  {
   "cell_type": "markdown",
   "metadata": {},
   "source": [
    "#### ❓ Create a new dataframe called uber_notcompleted_df with all trips except for the Completed ones ? (hint use the != \"Time Completed\" comparison)"
   ]
  },
  {
   "cell_type": "code",
   "execution_count": null,
   "metadata": {},
   "outputs": [],
   "source": []
  },
  {
   "cell_type": "markdown",
   "metadata": {},
   "source": [
    "#### ❓ How many rows has this new dataset ? Do you remember where you saw that number ? "
   ]
  },
  {
   "cell_type": "code",
   "execution_count": null,
   "metadata": {},
   "outputs": [],
   "source": []
  },
  {
   "cell_type": "markdown",
   "metadata": {},
   "source": [
    "#### ❓On the uber_df dataframe drop a useless column and justify yourself"
   ]
  },
  {
   "cell_type": "code",
   "execution_count": null,
   "metadata": {},
   "outputs": [],
   "source": []
  },
  {
   "cell_type": "markdown",
   "metadata": {},
   "source": [
    "#### ❓Using Seaborn or not, plot the number of trips for each status (bar chart)"
   ]
  },
  {
   "cell_type": "code",
   "execution_count": null,
   "metadata": {},
   "outputs": [],
   "source": []
  },
  {
   "cell_type": "markdown",
   "metadata": {},
   "source": [
    "#### ❓Using Seaborn or not, to plot the number of trips for each \"Pick up Point\""
   ]
  },
  {
   "cell_type": "code",
   "execution_count": null,
   "metadata": {},
   "outputs": [],
   "source": []
  },
  {
   "cell_type": "markdown",
   "metadata": {},
   "source": [
    "#### ❓Using Seaborn plot the status of trips per Pickup Points (Meaning, for Airport, how many Cancelled, completed, and no car available)"
   ]
  },
  {
   "cell_type": "code",
   "execution_count": null,
   "metadata": {},
   "outputs": [],
   "source": []
  },
  {
   "cell_type": "markdown",
   "metadata": {},
   "source": [
    "#### ❓Create 2 new columns called Supply and Demand : \n",
    "* Supply is equal to 1 if Status is \"Trip Completed\". Otherwise it's 0\n",
    "* Demand is equal to 1 no matter what\n",
    "* After Check that the changes took effect"
   ]
  },
  {
   "cell_type": "code",
   "execution_count": null,
   "metadata": {},
   "outputs": [],
   "source": []
  },
  {
   "cell_type": "code",
   "execution_count": null,
   "metadata": {},
   "outputs": [],
   "source": []
  },
  {
   "cell_type": "markdown",
   "metadata": {},
   "source": [
    "#### ❓Create the Gap column that is simply the difference of Demand and Supply. What does a Gap of 1 mean in real world ?"
   ]
  },
  {
   "cell_type": "code",
   "execution_count": null,
   "metadata": {},
   "outputs": [],
   "source": []
  },
  {
   "cell_type": "markdown",
   "metadata": {},
   "source": [
    "Answer : "
   ]
  },
  {
   "cell_type": "markdown",
   "metadata": {},
   "source": [
    "####  ❓[Optional] Play with the hours\n",
    "The Goal is to transform the request time stamp into a more understandable data. We will try to transform the timestamps into these data \"Morning\" 'Afternoon', 'Evening', 'Night'"
   ]
  },
  {
   "cell_type": "markdown",
   "metadata": {},
   "source": [
    "First Step : Transform the datatypes of Request timestamp and Drop timestamp into datetime object : \n",
    "Hint : Check the pd.to_datetime function(https://pandas.pydata.org/pandas-docs/stable/reference/api/pandas.to_datetime.html)\n",
    "\n",
    "Second Step : Create a new column named \"Request Hour\" That only takes the hour of the request. \n",
    "Hint : Check the .dt function and the .hour function (https://pandas.pydata.org/pandas-docs/stable/reference/api/pandas.Series.dt.html)\n",
    "\n",
    "Third Step : Create a new column named \"Request moment\" with these rules : \n",
    "* If Hour of request is between Midnight and 6 a.m it's the Night. \n",
    "* If Hour of request is between 6am and 12am it's the Morning. \n",
    "* If Hour of request is between 12am and 6pm it's the Afternoon. \n",
    "* If Hour of request is between 6pm and Midnight it's the Evening. "
   ]
  },
  {
   "cell_type": "code",
   "execution_count": 35,
   "metadata": {},
   "outputs": [],
   "source": [
    "uber_df[\"Request timestamp\"] = pd.to_datetime(uber_df[\"Request timestamp\"])"
   ]
  },
  {
   "cell_type": "code",
   "execution_count": 36,
   "metadata": {},
   "outputs": [],
   "source": [
    "uber_df[\"Request_hour\"] = uber_df['Request timestamp'].dt.hour"
   ]
  },
  {
   "cell_type": "code",
   "execution_count": 38,
   "metadata": {},
   "outputs": [],
   "source": [
    "uber_df.loc[uber_df['Request_hour'].between(6,12, inclusive=True),'Request Time Slot'] = 'Morning'\n",
    "uber_df.loc[uber_df['Request_hour'].between(12,18, inclusive=True),'Request Time Slot'] = 'Afternoon'\n",
    "uber_df.loc[uber_df['Request_hour'].between(18,24, inclusive=True),'Request Time Slot'] = 'Evening'\n",
    "uber_df.loc[uber_df['Request_hour'].between(24,6, inclusive=True),'Request Time Slot'] = 'Night'"
   ]
  },
  {
   "cell_type": "markdown",
   "metadata": {},
   "source": [
    "#### Using Seaborn Plot Trip Status for each moment of the day"
   ]
  },
  {
   "cell_type": "code",
   "execution_count": 39,
   "metadata": {},
   "outputs": [
    {
     "data": {
      "text/plain": [
       "<matplotlib.axes._subplots.AxesSubplot at 0x11d426690>"
      ]
     },
     "execution_count": 39,
     "metadata": {},
     "output_type": "execute_result"
    },
    {
     "data": {
      "image/png": "[encoded data removed]",
      "text/plain": [
       "<Figure size 432x288 with 1 Axes>"
      ]
     },
     "metadata": {
      "needs_background": "light"
     },
     "output_type": "display_data"
    }
   ],
   "source": [
    "sns.countplot(data=uber_df,x=\"Request Time Slot\", hue=\"Status\")"
   ]
  },
  {
   "cell_type": "markdown",
   "metadata": {},
   "source": [
    "#### Using Seaborn Plot the Supply Demand Gap for each moment of the day"
   ]
  },
  {
   "cell_type": "code",
   "execution_count": 40,
   "metadata": {},
   "outputs": [
    {
     "data": {
      "text/plain": [
       "<matplotlib.axes._subplots.AxesSubplot at 0x10751bf50>"
      ]
     },
     "execution_count": 40,
     "metadata": {},
     "output_type": "execute_result"
    },
    {
     "data": {
      "image/png": "[encoded data removed]",
      "text/plain": [
       "<Figure size 432x288 with 1 Axes>"
      ]
     },
     "metadata": {
      "needs_background": "light"
     },
     "output_type": "display_data"
    }
   ],
   "source": [
    "sns.countplot(data=uber_df,x=\"Request Time Slot\", hue=\"Gap\")"
   ]
  },
  {
   "cell_type": "markdown",
   "metadata": {},
   "source": [
    "### PRODUCT INSIGHTS"
   ]
  },
  {
   "cell_type": "markdown",
   "metadata": {},
   "source": [
    "What to advise Uber about all this ?"
   ]
  }
 ],
 "metadata": {
  "kernelspec": {
   "display_name": "Python 3",
   "language": "python",
   "name": "python3"
  },
  "language_info": {
   "codemirror_mode": {
    "name": "ipython",
    "version": 3
   },
   "file_extension": ".py",
   "mimetype": "text/x-python",
   "name": "python",
   "nbconvert_exporter": "python",
   "pygments_lexer": "ipython3",
   "version": "3.7.7"
  }
 },
 "nbformat": 4,
 "nbformat_minor": 2
}
